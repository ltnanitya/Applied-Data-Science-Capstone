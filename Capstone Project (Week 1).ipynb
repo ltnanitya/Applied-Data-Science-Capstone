{
 "cells": [
  {
   "cell_type": "markdown",
   "metadata": {
    "collapsed": true
   },
   "source": [
    "# Capstone Project: The Battle of Neighbourhoods (Week 1) #"
   ]
  },
  {
   "cell_type": "markdown",
   "metadata": {},
   "source": [
    "___"
   ]
  },
  {
   "cell_type": "markdown",
   "metadata": {},
   "source": [
    "## *1. Description of the problem and a discussion of the background* ##"
   ]
  },
  {
   "cell_type": "markdown",
   "metadata": {},
   "source": [
    "### 1.1 A description of the problem ###"
   ]
  },
  {
   "cell_type": "markdown",
   "metadata": {},
   "source": [
    "Entertainment place recommendation is a challenging task because of the variance in what an individual perceives as comfortable versus another. For example, children prefer play grounds or theme parks, young people like adventure and adult like some uproarious locations like bars or pubs. Additionally, the preference of entertainment varies in different time intervals or period. For example, people tend to visit natural lanscapes in summer rather than go to museums, or in winter much more custumers usually go to BBQ restaurants instead of the hot weather like summer. Entertainment preference also varies from culture to culture. For example, visiting religious locations like churches or temples would be prefered over stadiums in the weekend. A recommendation system would be highly effective if it can deal with as many of such challenges as possible."
   ]
  },
  {
   "cell_type": "markdown",
   "metadata": {},
   "source": [
    "### 1.2 Background ###"
   ]
  },
  {
   "cell_type": "markdown",
   "metadata": {},
   "source": [
    "As we know, London is one of the most attractive locations in the world. Attracting 27 million visitors every year, London becomes the most visited city in Europe. It’s no surprise that London is top of so many people’s travel plans. Today, London is one of the most diverse cities in the world, with a rich history and some of the most outstanding culture on the planet. Of course, London has many entertainment facilities that being the most interests tourists. However, among a thousands of selections of which places that are convenient, high-rated, and affordable should be given priority. To this end, an efficient recommendation system should be considered to suggest and help tourists and travellers making a good decision. \n",
    "For aforementioned justifications, this project will investigate some common places that are highly recommended and visited in London. Then it can give reasonable suggestions for people to find the right place to enjoy their vacations or holidays."
   ]
  },
  {
   "cell_type": "markdown",
   "metadata": {},
   "source": [
    "## *2. Description of the data and how it will be used to solve the problem* ##\n"
   ]
  },
  {
   "cell_type": "markdown",
   "metadata": {},
   "source": [
    "### 2.1 Data ###"
   ]
  },
  {
   "cell_type": "markdown",
   "metadata": {},
   "source": [
    "Many of the world’s largest tech companies rely on Foursquare data to add location into their apps and services. As the knowledge being acquired in this course, this project will take benefits from the FoursquareAPI application to access available data for the investigation. Foursquare lets users search for restaurants, nightlife spots, shops and other places of interest in their surrounding area. It is also possible to search other areas by entering the name of a remote location. The app displays personalized recommendations based on the time of day, displaying breakfast places in the morning, dinner places in the evening etc. Recommendations are personalized based on factors that include a user's check-in history, their \"Tastes\" and their venue ratings.\n",
    "For this reason, this project can get information of London such as Postal codes and theirs Borough, the geographical locations including Latitude and Longitude, the common places that are offen visited and recommended by custumers like Hotels, Bars, Restaurants. This approach is easy because of the open-source of data base location given by Wikipedia. In this case, data about locations of London can be easily fetched from this URL link: https://en.wikipedia.org/wiki/List_of_areas_of_London. After collecting necessary data, it should be preprocessed in the following steps."
   ]
  },
  {
   "cell_type": "markdown",
   "metadata": {},
   "source": [
    "### 2.1 Handling data ###"
   ]
  },
  {
   "cell_type": "markdown",
   "metadata": {},
   "source": [
    "Data obtained will be wrangled in this step. First, BeautifulSoup library in Python is used to read the HTML content of data, then obtained data will be fed into dataframe to extract the most informative attributes. Some rich information such as Postal codes, Borough, and Latitude & Longitude should be retained because most of places are recommended based on these information. After that, matching physical locations with geographical locations will be done by applying FoursquareAPI. This step is performed by providing Client ID, Secret ID of the user and Version of FoursquareAPI application. Then, based on data analysis, the most common places will be recommended. Finally, a map of these locations should be displayed to facilitate the visualization for custumers. Details of these processed will be given in the full report of Week 2.  "
   ]
  },
  {
   "cell_type": "markdown",
   "metadata": {},
   "source": [
    "**Thank you so much!**"
   ]
  },
  {
   "cell_type": "code",
   "execution_count": null,
   "metadata": {},
   "outputs": [],
   "source": []
  }
 ],
 "metadata": {
  "kernelspec": {
   "display_name": "Python 3.6",
   "language": "python",
   "name": "python3"
  },
  "language_info": {
   "codemirror_mode": {
    "name": "ipython",
    "version": 3
   },
   "file_extension": ".py",
   "mimetype": "text/x-python",
   "name": "python",
   "nbconvert_exporter": "python",
   "pygments_lexer": "ipython3",
   "version": "3.6.9"
  }
 },
 "nbformat": 4,
 "nbformat_minor": 1
}
